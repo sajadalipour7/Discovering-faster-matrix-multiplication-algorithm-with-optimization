{
  "nbformat": 4,
  "nbformat_minor": 0,
  "metadata": {
    "colab": {
      "provenance": []
    },
    "kernelspec": {
      "name": "python3",
      "display_name": "Python 3"
    },
    "language_info": {
      "name": "python"
    }
  },
  "cells": [
    {
      "cell_type": "code",
      "execution_count": 1,
      "metadata": {
        "colab": {
          "base_uri": "https://localhost:8080/"
        },
        "id": "mGCGrg-zIV7-",
        "outputId": "970c1b5c-30ad-4062-b92a-e852e318f6ec"
      },
      "outputs": [
        {
          "output_type": "stream",
          "name": "stdout",
          "text": [
            "Mounted at /content/drive\n"
          ]
        }
      ],
      "source": [
        "from google.colab import drive\n",
        "drive.mount(\"/content/drive\")"
      ]
    },
    {
      "cell_type": "code",
      "source": [
        "cd drive/MyDrive"
      ],
      "metadata": {
        "id": "dtcdDeX03fKA"
      },
      "execution_count": null,
      "outputs": []
    },
    {
      "cell_type": "code",
      "source": [
        "!mkdir matrixfast"
      ],
      "metadata": {
        "id": "yTMhZmPU3NI2"
      },
      "execution_count": null,
      "outputs": []
    },
    {
      "cell_type": "code",
      "source": [
        "cd matrixfast"
      ],
      "metadata": {
        "colab": {
          "base_uri": "https://localhost:8080/"
        },
        "id": "xRsAznnLI4FV",
        "outputId": "28211bf9-1a99-4cf1-b905-74035a8fc643"
      },
      "execution_count": 266,
      "outputs": [
        {
          "output_type": "stream",
          "name": "stdout",
          "text": [
            "/content/drive/MyDrive/matrixfast\n"
          ]
        }
      ]
    },
    {
      "cell_type": "code",
      "source": [
        "!unzip ipopt-linux64.zip"
      ],
      "metadata": {
        "id": "Evb03Nqk3QA4"
      },
      "execution_count": null,
      "outputs": []
    },
    {
      "cell_type": "code",
      "source": [
        "!chmod +x ipopt"
      ],
      "metadata": {
        "id": "A_2lD0O63S-t"
      },
      "execution_count": 279,
      "outputs": []
    },
    {
      "cell_type": "code",
      "source": [
        "ls"
      ],
      "metadata": {
        "colab": {
          "base_uri": "https://localhost:8080/"
        },
        "id": "Jp0WwUAkI4nW",
        "outputId": "3a06b9db-1934-4b4e-c8e4-19a9029fbeaa"
      },
      "execution_count": 280,
      "outputs": [
        {
          "output_type": "stream",
          "name": "stdout",
          "text": [
            "coin-license.txt  \u001b[0m\u001b[01;32mipopt\u001b[0m*  ipopt-linux64.zip\n"
          ]
        }
      ]
    },
    {
      "cell_type": "markdown",
      "source": [
        "# installing packages"
      ],
      "metadata": {
        "id": "olKU20G02Zq2"
      }
    },
    {
      "cell_type": "code",
      "source": [
        "!pip install -q pyomo"
      ],
      "metadata": {
        "colab": {
          "base_uri": "https://localhost:8080/"
        },
        "id": "v6BpKWXTI5Kh",
        "outputId": "e7beb725-8168-40e7-87dd-4542b2eda58c"
      },
      "execution_count": 5,
      "outputs": [
        {
          "output_type": "stream",
          "name": "stdout",
          "text": [
            "\u001b[2K     \u001b[90m━━━━━━━━━━━━━━━━━━━━━━━━━━━━━━━━━━━━━━━━\u001b[0m \u001b[32m11.9/11.9 MB\u001b[0m \u001b[31m84.7 MB/s\u001b[0m eta \u001b[36m0:00:00\u001b[0m\n",
            "\u001b[2K     \u001b[90m━━━━━━━━━━━━━━━━━━━━━━━━━━━━━━━━━━━━━━━━\u001b[0m \u001b[32m49.6/49.6 kB\u001b[0m \u001b[31m6.2 MB/s\u001b[0m eta \u001b[36m0:00:00\u001b[0m\n",
            "\u001b[?25h"
          ]
        }
      ]
    },
    {
      "cell_type": "code",
      "source": [
        "!apt-get install -y -qq glpk-utils"
      ],
      "metadata": {
        "colab": {
          "base_uri": "https://localhost:8080/"
        },
        "id": "UEtdU6lQI832",
        "outputId": "5e9acc79-63ae-46e5-834c-b15482c82082"
      },
      "execution_count": 6,
      "outputs": [
        {
          "output_type": "stream",
          "name": "stdout",
          "text": [
            "Selecting previously unselected package libsuitesparseconfig5:amd64.\n",
            "(Reading database ... 122541 files and directories currently installed.)\n",
            "Preparing to unpack .../libsuitesparseconfig5_1%3a5.7.1+dfsg-2_amd64.deb ...\n",
            "Unpacking libsuitesparseconfig5:amd64 (1:5.7.1+dfsg-2) ...\n",
            "Selecting previously unselected package libamd2:amd64.\n",
            "Preparing to unpack .../libamd2_1%3a5.7.1+dfsg-2_amd64.deb ...\n",
            "Unpacking libamd2:amd64 (1:5.7.1+dfsg-2) ...\n",
            "Selecting previously unselected package libcolamd2:amd64.\n",
            "Preparing to unpack .../libcolamd2_1%3a5.7.1+dfsg-2_amd64.deb ...\n",
            "Unpacking libcolamd2:amd64 (1:5.7.1+dfsg-2) ...\n",
            "Selecting previously unselected package libglpk40:amd64.\n",
            "Preparing to unpack .../libglpk40_4.65-2_amd64.deb ...\n",
            "Unpacking libglpk40:amd64 (4.65-2) ...\n",
            "Selecting previously unselected package glpk-utils.\n",
            "Preparing to unpack .../glpk-utils_4.65-2_amd64.deb ...\n",
            "Unpacking glpk-utils (4.65-2) ...\n",
            "Setting up libsuitesparseconfig5:amd64 (1:5.7.1+dfsg-2) ...\n",
            "Setting up libamd2:amd64 (1:5.7.1+dfsg-2) ...\n",
            "Setting up libcolamd2:amd64 (1:5.7.1+dfsg-2) ...\n",
            "Setting up libglpk40:amd64 (4.65-2) ...\n",
            "Setting up glpk-utils (4.65-2) ...\n",
            "Processing triggers for man-db (2.9.1-1) ...\n",
            "Processing triggers for libc-bin (2.31-0ubuntu9.9) ...\n"
          ]
        }
      ]
    },
    {
      "cell_type": "code",
      "source": [
        "import random"
      ],
      "metadata": {
        "id": "mQaXNJWiJBo2"
      },
      "execution_count": 267,
      "outputs": []
    },
    {
      "cell_type": "code",
      "source": [
        "import pyomo.environ as pyo"
      ],
      "metadata": {
        "id": "XrE4xL-2I-Wd"
      },
      "execution_count": 268,
      "outputs": []
    },
    {
      "cell_type": "markdown",
      "source": [
        "# Creating model:"
      ],
      "metadata": {
        "id": "y_wBMB2R3l9p"
      }
    },
    {
      "cell_type": "code",
      "source": [
        "model=pyo.ConcreteModel()"
      ],
      "metadata": {
        "id": "jIhMQH_kJAHx"
      },
      "execution_count": 281,
      "outputs": []
    },
    {
      "cell_type": "code",
      "source": [
        "model.rowset = pyo.Set(initialize=[1, 2, 3, 4])\n",
        "model.columnset = pyo.Set(initialize=[1, 2, 3, 4, 5, 6, 7])\n",
        "model.iset=model.rowset*model.columnset"
      ],
      "metadata": {
        "id": "_PhMH6Q63ocG"
      },
      "execution_count": 282,
      "outputs": []
    },
    {
      "cell_type": "markdown",
      "source": [
        "## variables:"
      ],
      "metadata": {
        "id": "oHvuVCeg3xsH"
      }
    },
    {
      "cell_type": "code",
      "source": [
        "model.u=pyo.Var(model.iset, domain=pyo.Reals,bounds=(-1,1))"
      ],
      "metadata": {
        "id": "40CG39S3SH86"
      },
      "execution_count": 283,
      "outputs": []
    },
    {
      "cell_type": "code",
      "source": [
        "model.v=pyo.Var(model.iset, domain=pyo.Reals,bounds=(-1,1))"
      ],
      "metadata": {
        "id": "8hNWdiiDMPoR"
      },
      "execution_count": 284,
      "outputs": []
    },
    {
      "cell_type": "code",
      "source": [
        "model.w=pyo.Var(model.iset, domain=pyo.Reals,bounds=(-1,1))"
      ],
      "metadata": {
        "id": "4BRjMRTBMQzt"
      },
      "execution_count": 285,
      "outputs": []
    },
    {
      "cell_type": "markdown",
      "source": [
        "## initializing variables:"
      ],
      "metadata": {
        "id": "nX2OTrQY332T"
      }
    },
    {
      "cell_type": "code",
      "source": [
        "# random initialize all variables\n",
        "for i in range(1,5):\n",
        "  for j in range(1,8):\n",
        "    model.u[i,j]=float(random.randint(-1,1))\n",
        "    model.v[i,j]=float(random.randint(-1,1))\n",
        "    model.w[i,j]=float(random.randint(-1,1))"
      ],
      "metadata": {
        "id": "XRVUo2mCT8dB"
      },
      "execution_count": 286,
      "outputs": []
    },
    {
      "cell_type": "markdown",
      "source": [
        "# Objective function:\n",
        "\n",
        "![Capture23.JPG](data:image/jpeg;base64,/9j/4AAQSkZJRgABAQEAeAB4AAD/4RDcRXhpZgAATU0AKgAAAAgABAE7AAIAAAAGAAAISodpAAQAAAABAAAIUJydAAEAAAAMAAAQyOocAAcAAAgMAAAAPgAAAAAc6gAAAAgAAAAAAAAAAAAAAAAAAAAAAAAAAAAAAAAAAAAAAAAAAAAAAAAAAAAAAAAAAAAAAAAAAAAAAAAAAAAAAAAAAAAAAAAAAAAAAAAAAAAAAAAAAAAAAAAAAAAAAAAAAAAAAAAAAAAAAAAAAAAAAAAAAAAAAAAAAAAAAAAAAAAAAAAAAAAAAAAAAAAAAAAAAAAAAAAAAAAAAAAAAAAAAAAAAAAAAAAAAAAAAAAAAAAAAAAAAAAAAAAAAAAAAAAAAAAAAAAAAAAAAAAAAAAAAAAAAAAAAAAAAAAAAAAAAAAAAAAAAAAAAAAAAAAAAAAAAAAAAAAAAAAAAAAAAAAAAAAAAAAAAAAAAAAAAAAAAAAAAAAAAAAAAAAAAAAAAAAAAAAAAAAAAAAAAAAAAAAAAAAAAAAAAAAAAAAAAAAAAAAAAAAAAAAAAAAAAAAAAAAAAAAAAAAAAAAAAAAAAAAAAAAAAAAAAAAAAAAAAAAAAAAAAAAAAAAAAAAAAAAAAAAAAAAAAAAAAAAAAAAAAAAAAAAAAAAAAAAAAAAAAAAAAAAAAAAAAAAAAAAAAAAAAAAAAAAAAAAAAAAAAAAAAAAAAAAAAAAAAAAAAAAAAAAAAAAAAAAAAAAAAAAAAAAAAAAAAAAAAAAAAAAAAAAAAAAAAAAAAAAAAAAAAAAAAAAAAAAAAAAAAAAAAAAAAAAAAAAAAAAAAAAAAAAAAAAAAAAAAAAAAAAAAAAAAAAAAAAAAAAAAAAAAAAAAAAAAAAAAAAAAAAAAAAAAAAAAAAAAAAAAAAAAAAAAAAAAAAAAAAAAAAAAAAAAAAAAAAAAAAAAAAAAAAAAAAAAAAAAAAAAAAAAAAAAAAAAAAAAAAAAAAAAAAAAAAAAAAAAAAAAAAAAAAAAAAAAAAAAAAAAAAAAAAAAAAAAAAAAAAAAAAAAAAAAAAAAAAAAAAAAAAAAAAAAAAAAAAAAAAAAAAAAAAAAAAAAAAAAAAAAAAAAAAAAAAAAAAAAAAAAAAAAAAAAAAAAAAAAAAAAAAAAAAAAAAAAAAAAAAAAAAAAAAAAAAAAAAAAAAAAAAAAAAAAAAAAAAAAAAAAAAAAAAAAAAAAAAAAAAAAAAAAAAAAAAAAAAAAAAAAAAAAAAAAAAAAAAAAAAAAAAAAAAAAAAAAAAAAAAAAAAAAAAAAAAAAAAAAAAAAAAAAAAAAAAAAAAAAAAAAAAAAAAAAAAAAAAAAAAAAAAAAAAAAAAAAAAAAAAAAAAAAAAAAAAAAAAAAAAAAAAAAAAAAAAAAAAAAAAAAAAAAAAAAAAAAAAAAAAAAAAAAAAAAAAAAAAAAAAAAAAAAAAAAAAAAAAAAAAAAAAAAAAAAAAAAAAAAAAAAAAAAAAAAAAAAAAAAAAAAAAAAAAAAAAAAAAAAAAAAAAAAAAAAAAAAAAAAAAAAAAAAAAAAAAAAAAAAAAAAAAAAAAAAAAAAAAAAAAAAAAAAAAAAAAAAAAAAAAAAAAAAAAAAAAAAAAAAAAAAAAAAAAAAAAAAAAAAAAAAAAAAAAAAAAAAAAAAAAAAAAAAAAAAAAAAAAAAAAAAAAAAAAAAAAAAAAAAAAAAAAAAAAAAAAAAAAAAAAAAAAAAAAAAAAAAAAAAAAAAAAAAAAAAAAAAAAAAAAAAAAAAAAAAAAAAAAAAAAAAAAAAAAAAAAAAAAAAAAAAAAAAAAAAAAAAAAAAAAAAAAAAAAAAAAAAAAAAAAAAAAAAAAAAAAAAAAAAAAAAAAAAAAAAAAAAAAAAAAAAAAAAAAAAAAAAAAAAAAAAAAAAAAAAAAAAAAAAAAAAAAAAAAAAAAAAAAAAAAAAAAAAAAAAAAAAAAAAAAAAAAAAAAAAAAAAAAAAAAAAAAAAAAAAAAAAAAAAAAAAAAAAAAAAAAAAAAAAAAAAAAAAAAAAAAAAAAAAAAAAAAAAAAAAAAAAAAAAAAAAAAAAAAAAAAAAAAAAAAAAAAAAAAAAAAAAAAAAAAAAAAAAAAAAAAAAAAAAAAAAAAAAAAAAAAAAAAAAAAAAAAAAAAAAAAAAAAAAAAAAAAAAAAAAAAAAAAAAAAAAAAAAAAAAAAAAAAAAAAAAAAAAAAAAAAAAAAAAAAAAAAAAAAAAAAAAAAAAAAAAAAAAAAAAAAAAAAAAAAAAAAAAAAAAAAAAAAAAAAAAAAAAAAAAAAAAAAAAAAAAAAAAAAAAAAAAAAAAAAAAAAAAAAAAAAAAAAAAAAAAAAAAAAAAAAAAAAAAAAAAAAAAAAAAAAAAAAAAAAAAAAAAAAAAAAAAAAAAAAAAAAAAAAAAAAAAAAAAAAAAAAAAAAAAAAAAAAAAAAAAAAAAAAAAAAAAAAAAAAAAAAAAAAAAAAAAAAAAAAAAAAAAAAAAAAAAAAAAAAAAAAAAAAAAAAAAAAAAAAAAAAAAAAAAAAAAAAAAAAAAAAAAAAAAAAAAAAAAAAAAAAAAAAAAAAAAAAAAAAAAAAAAAAAAAAAAAAAAAAAAAAAAAAAAAAAAAAAAAAAAAAAAAAAAAAAAAAAAAAAAAAAAAAAAAAAAAAAAAAAAAAAAAAAAAAAAAAAAAAAAAAAAAAAAAAAAAAAAAAAAAAAAAAAAAAAAAAAAAAAAAAAAAAAAAAAAAAAAAAAAAAAAAAAAAAAAAAAAAAAAAAAAAAAAAAAAAAAAAAAAAAAAAAAAAAAAAAAAAAAAAAAAAAAAAAAAAAAAAAAAAAAAAAAAAAAAAAAAAAAAAAAAAAAAAAAAAAAAFNhamFkAAAFkAMAAgAAABQAABCekAQAAgAAABQAABCykpEAAgAAAAMwNQAAkpIAAgAAAAMwNQAA6hwABwAACAwAAAiSAAAAABzqAAAACAAAAAAAAAAAAAAAAAAAAAAAAAAAAAAAAAAAAAAAAAAAAAAAAAAAAAAAAAAAAAAAAAAAAAAAAAAAAAAAAAAAAAAAAAAAAAAAAAAAAAAAAAAAAAAAAAAAAAAAAAAAAAAAAAAAAAAAAAAAAAAAAAAAAAAAAAAAAAAAAAAAAAAAAAAAAAAAAAAAAAAAAAAAAAAAAAAAAAAAAAAAAAAAAAAAAAAAAAAAAAAAAAAAAAAAAAAAAAAAAAAAAAAAAAAAAAAAAAAAAAAAAAAAAAAAAAAAAAAAAAAAAAAAAAAAAAAAAAAAAAAAAAAAAAAAAAAAAAAAAAAAAAAAAAAAAAAAAAAAAAAAAAAAAAAAAAAAAAAAAAAAAAAAAAAAAAAAAAAAAAAAAAAAAAAAAAAAAAAAAAAAAAAAAAAAAAAAAAAAAAAAAAAAAAAAAAAAAAAAAAAAAAAAAAAAAAAAAAAAAAAAAAAAAAAAAAAAAAAAAAAAAAAAAAAAAAAAAAAAAAAAAAAAAAAAAAAAAAAAAAAAAAAAAAAAAAAAAAAAAAAAAAAAAAAAAAAAAAAAAAAAAAAAAAAAAAAAAAAAAAAAAAAAAAAAAAAAAAAAAAAAAAAAAAAAAAAAAAAAAAAAAAAAAAAAAAAAAAAAAAAAAAAAAAAAAAAAAAAAAAAAAAAAAAAAAAAAAAAAAAAAAAAAAAAAAAAAAAAAAAAAAAAAAAAAAAAAAAAAAAAAAAAAAAAAAAAAAAAAAAAAAAAAAAAAAAAAAAAAAAAAAAAAAAAAAAAAAAAAAAAAAAAAAAAAAAAAAAAAAAAAAAAAAAAAAAAAAAAAAAAAAAAAAAAAAAAAAAAAAAAAAAAAAAAAAAAAAAAAAAAAAAAAAAAAAAAAAAAAAAAAAAAAAAAAAAAAAAAAAAAAAAAAAAAAAAAAAAAAAAAAAAAAAAAAAAAAAAAAAAAAAAAAAAAAAAAAAAAAAAAAAAAAAAAAAAAAAAAAAAAAAAAAAAAAAAAAAAAAAAAAAAAAAAAAAAAAAAAAAAAAAAAAAAAAAAAAAAAAAAAAAAAAAAAAAAAAAAAAAAAAAAAAAAAAAAAAAAAAAAAAAAAAAAAAAAAAAAAAAAAAAAAAAAAAAAAAAAAAAAAAAAAAAAAAAAAAAAAAAAAAAAAAAAAAAAAAAAAAAAAAAAAAAAAAAAAAAAAAAAAAAAAAAAAAAAAAAAAAAAAAAAAAAAAAAAAAAAAAAAAAAAAAAAAAAAAAAAAAAAAAAAAAAAAAAAAAAAAAAAAAAAAAAAAAAAAAAAAAAAAAAAAAAAAAAAAAAAAAAAAAAAAAAAAAAAAAAAAAAAAAAAAAAAAAAAAAAAAAAAAAAAAAAAAAAAAAAAAAAAAAAAAAAAAAAAAAAAAAAAAAAAAAAAAAAAAAAAAAAAAAAAAAAAAAAAAAAAAAAAAAAAAAAAAAAAAAAAAAAAAAAAAAAAAAAAAAAAAAAAAAAAAAAAAAAAAAAAAAAAAAAAAAAAAAAAAAAAAAAAAAAAAAAAAAAAAAAAAAAAAAAAAAAAAAAAAAAAAAAAAAAAAAAAAAAAAAAAAAAAAAAAAAAAAAAAAAAAAAAAAAAAAAAAAAAAAAAAAAAAAAAAAAAAAAAAAAAAAAAAAAAAAAAAAAAAAAAAAAAAAAAAAAAAAAAAAAAAAAAAAAAAAAAAAAAAAAAAAAAAAAAAAAAAAAAAAAAAAAAAAAAAAAAAAAAAAAAAAAAAAAAAAAAAAAAAAAAAAAAAAAAAAAAAAAAAAAAAAAAAAAAAAAAAAAAAAAAAAAAAAAAAAAAAAAAAAAAAAAAAAAAAAAAAAAAAAAAAAAAAAAAAAAAAAAAAAAAAAAAAAAAAAAAAAAAAAAAAAAAAAAAAAAAAAAAAAAAAAAAAAAAAAAAAAAAAAAAAAAAAAAAAAAAAAAAAAAAAAAAAAAAAAAAAAAAAAAAAAAAAAAAAAAAAAAAAAAAAAAAAAAAAAAAAAAAAAAAAAAAAAAAAAAAAAAAAAAAAAAAAAAAAAAAAAAAAAAAAAAAAAAAAAAAAAAAAAAAAAAAAAAAAAAAAAAAAAAAAAAAAAAAAAAAAAAAAAAAAAAAAAAAAAAAAAAAAAAAAAAAAAAAAAAAAAAAAAAAAAAAAAAAAAAAAAAAAAAAAAAAAAAAAAAAAAAAAAAAAAAAAAAAAAAAAAAAAAAAAAAAAAAAAAAAAAAAAAAAAAAAAAAAAAAAAAAAAAAAAAAAAAAAAAAAAAAAAAAAAAAAAAAAAAAAAAAAAAAAAAAAAAAAAAAAAAAAAAAAAAAAAAAAAAAAAAAAAAAAAAAAAAAAAAAAAAAAAAAAAAAAAAAAAAAAAAAAAAAAAAAAAAAAAAAAAAAAAAAAAAAAAAAAAAAAAAAAAAAAAAAAAAAAAAAAAAAAAAAAAAAAAAAAAAAAAAAAAAAAAAAAAAAAAAAAAAAAAAAAAAAAAAAAAAAAAAAAAAAAAAAAAAAAAAAAAAAAAAAAAAAAAAAAAAAAAAAAAAAAAAAAAAAAAAAAAAAAAAAAAAAAAAAAAAAAAAAAAAAAAAAAAAAAAAAAAAAAAAAAAAAAAAAAAAAAAAAAAAAAAAAAAAAAAAAAAAAAAAAAAAAAAAAAAAAAAAAAAAAAAAAAAAAAAAAAAAAAAAAAAAAAAAAAAAAAAAAAAAAAAAAAAAAAAAAAAAAAAAAAAAAAAAAAAAAAAAAAAAAAAAAAAAAAAAAAAAAAAAAAAAAAAAAAAAAAAAAAAAAAAAAMjAyMzowNjoxMyAyMToxOTo1MAAyMDIzOjA2OjEzIDIxOjE5OjUwAAAAUwBhAGoAYQBkAAAA/+ELGGh0dHA6Ly9ucy5hZG9iZS5jb20veGFwLzEuMC8APD94cGFja2V0IGJlZ2luPSfvu78nIGlkPSdXNU0wTXBDZWhpSHpyZVN6TlRjemtjOWQnPz4NCjx4OnhtcG1ldGEgeG1sbnM6eD0iYWRvYmU6bnM6bWV0YS8iPjxyZGY6UkRGIHhtbG5zOnJkZj0iaHR0cDovL3d3dy53My5vcmcvMTk5OS8wMi8yMi1yZGYtc3ludGF4LW5zIyI+PHJkZjpEZXNjcmlwdGlvbiByZGY6YWJvdXQ9InV1aWQ6ZmFmNWJkZDUtYmEzZC0xMWRhLWFkMzEtZDMzZDc1MTgyZjFiIiB4bWxuczpkYz0iaHR0cDovL3B1cmwub3JnL2RjL2VsZW1lbnRzLzEuMS8iLz48cmRmOkRlc2NyaXB0aW9uIHJkZjphYm91dD0idXVpZDpmYWY1YmRkNS1iYTNkLTExZGEtYWQzMS1kMzNkNzUxODJmMWIiIHhtbG5zOnhtcD0iaHR0cDovL25zLmFkb2JlLmNvbS94YXAvMS4wLyI+PHhtcDpDcmVhdGVEYXRlPjIwMjMtMDYtMTNUMjE6MTk6NTAuMDUwPC94bXA6Q3JlYXRlRGF0ZT48L3JkZjpEZXNjcmlwdGlvbj48cmRmOkRlc2NyaXB0aW9uIHJkZjphYm91dD0idXVpZDpmYWY1YmRkNS1iYTNkLTExZGEtYWQzMS1kMzNkNzUxODJmMWIiIHhtbG5zOmRjPSJodHRwOi8vcHVybC5vcmcvZGMvZWxlbWVudHMvMS4xLyI+PGRjOmNyZWF0b3I+PHJkZjpTZXEgeG1sbnM6cmRmPSJodHRwOi8vd3d3LnczLm9yZy8xOTk5LzAyLzIyLXJkZi1zeW50YXgtbnMjIj48cmRmOmxpPlNhamFkPC9yZGY6bGk+PC9yZGY6U2VxPg0KCQkJPC9kYzpjcmVhdG9yPjwvcmRmOkRlc2NyaXB0aW9uPjwvcmRmOlJERj48L3g6eG1wbWV0YT4NCiAgICAgICAgICAgICAgICAgICAgICAgICAgICAgICAgICAgICAgICAgICAgICAgICAgICAgICAgICAgICAgICAgICAgICAgICAgICAgICAgICAgICAgICAgICAgICAgICAgICAKICAgICAgICAgICAgICAgICAgICAgICAgICAgICAgICAgICAgICAgICAgICAgICAgICAgICAgICAgICAgICAgICAgICAgICAgICAgICAgICAgICAgICAgICAgICAgICAgICAgIAogICAgICAgICAgICAgICAgICAgICAgICAgICAgICAgICAgICAgICAgICAgICAgICAgICAgICAgICAgICAgICAgICAgICAgICAgICAgICAgICAgICAgICAgICAgICAgICAgICAgCiAgICAgICAgICAgICAgICAgICAgICAgICAgICAgICAgICAgICAgICAgICAgICAgICAgICAgICAgICAgICAgICAgICAgICAgICAgICAgICAgICAgICAgICAgICAgICAgICAgICAKICAgICAgICAgICAgICAgICAgICAgICAgICAgICAgICAgICAgICAgICAgICAgICAgICAgICAgICAgICAgICAgICAgICAgICAgICAgICAgICAgICAgICAgICAgICAgICAgICAgIAogICAgICAgICAgICAgICAgICAgICAgICAgICAgICAgICAgICAgICAgICAgICAgICAgICAgICAgICAgICAgICAgICAgICAgICAgICAgICAgICAgICAgICAgICAgICAgICAgICAgCiAgICAgICAgICAgICAgICAgICAgICAgICAgICAgICAgICAgICAgICAgICAgICAgICAgICAgICAgICAgICAgICAgICAgICAgICAgICAgICAgICAgICAgICAgICAgICAgICAgICAKICAgICAgICAgICAgICAgICAgICAgICAgICAgICAgICAgICAgICAgICAgICAgICAgICAgICAgICAgICAgICAgICAgICAgICAgICAgICAgICAgICAgICAgICAgICAgICAgICAgIAogICAgICAgICAgICAgICAgICAgICAgICAgICAgICAgICAgICAgICAgICAgICAgICAgICAgICAgICAgICAgICAgICAgICAgICAgICAgICAgICAgICAgICAgICAgICAgICAgICAgCiAgICAgICAgICAgICAgICAgICAgICAgICAgICAgICAgICAgICAgICAgICAgICAgICAgICAgICAgICAgICAgICAgICAgICAgICAgICAgICAgICAgICAgICAgICAgICAgICAgICAKICAgICAgICAgICAgICAgICAgICAgICAgICAgICAgICAgICAgICAgICAgICAgICAgICAgICAgICAgICAgICAgICAgICAgICAgICAgICAgICAgICAgICAgICAgICAgICAgICAgIAogICAgICAgICAgICAgICAgICAgICAgICAgICAgICAgICAgICAgICAgICAgICAgICAgICAgICAgICAgICAgICAgICAgICAgICAgICAgICAgICAgICAgICAgICAgICAgICAgICAgCiAgICAgICAgICAgICAgICAgICAgICAgICAgICAgICAgICAgICAgICAgICAgICAgICAgICAgICAgICAgICAgICAgICAgICAgICAgICAgICAgICAgICAgICAgICAgICAgICAgICAKICAgICAgICAgICAgICAgICAgICAgICAgICAgICAgICAgICAgICAgICAgICAgICAgICAgICAgICAgICAgICAgICAgICAgICAgICAgICAgICAgICAgICAgICAgICAgICAgICAgIAogICAgICAgICAgICAgICAgICAgICAgICAgICAgICAgICAgICAgICAgICAgICAgICAgICAgICAgICAgICAgICAgICAgICAgICAgICAgICAgICAgICAgICAgICAgICAgICAgICAgCiAgICAgICAgICAgICAgICAgICAgICAgICAgICAgICAgICAgICAgICAgICAgICAgICAgICAgICAgICAgICAgICAgICAgICAgICAgICAgICAgICAgICAgICAgICAgICAgICAgICAKICAgICAgICAgICAgICAgICAgICAgICAgICAgICAgICAgICAgICAgICAgICAgICAgICAgICAgICAgICAgICAgICAgICAgICAgICAgICAgICAgICAgICAgICAgICAgICAgICAgIAogICAgICAgICAgICAgICAgICAgICAgICAgICAgICAgICAgICAgICAgICAgICAgICAgICAgICAgICAgICAgICAgICAgICAgICAgICAgICAgICAgICAgICAgICAgICAgICAgICAgCiAgICAgICAgICAgICAgICAgICAgICAgICAgICAgICAgICAgICAgICAgICAgICAgICAgICAgICAgICAgICAgICAgICAgICAgICAgICAgICAgICAgICAgICAgICAgICAgICAgICAKICAgICAgICAgICAgICAgICAgICAgICAgICAgICAgICAgICAgICAgICAgICAgICAgICAgICAgICAgICAgICAgICAgICAgICAgICAgICAgICAgICAgICAgICAgICAgICAgICAgIAogICAgICAgICAgICAgICAgICAgICAgICAgICAgPD94cGFja2V0IGVuZD0ndyc/Pv/bAEMABwUFBgUEBwYFBggHBwgKEQsKCQkKFQ8QDBEYFRoZGBUYFxseJyEbHSUdFxgiLiIlKCkrLCsaIC8zLyoyJyorKv/bAEMBBwgICgkKFAsLFCocGBwqKioqKioqKioqKioqKioqKioqKioqKioqKioqKioqKioqKioqKioqKioqKioqKioqKv/AABEIAHgB2AMBIgACEQEDEQH/xAAfAAABBQEBAQEBAQAAAAAAAAAAAQIDBAUGBwgJCgv/xAC1EAACAQMDAgQDBQUEBAAAAX0BAgMABBEFEiExQQYTUWEHInEUMoGRoQgjQrHBFVLR8CQzYnKCCQoWFxgZGiUmJygpKjQ1Njc4OTpDREVGR0hJSlNUVVZXWFlaY2RlZmdoaWpzdHV2d3h5eoOEhYaHiImKkpOUlZaXmJmaoqOkpaanqKmqsrO0tba3uLm6wsPExcbHyMnK0tPU1dbX2Nna4eLj5OXm5+jp6vHy8/T19vf4+fr/xAAfAQADAQEBAQEBAQEBAAAAAAAAAQIDBAUGBwgJCgv/xAC1EQACAQIEBAMEBwUEBAABAncAAQIDEQQFITEGEkFRB2FxEyIygQgUQpGhscEJIzNS8BVictEKFiQ04SXxFxgZGiYnKCkqNTY3ODk6Q0RFRkdISUpTVFVWV1hZWmNkZWZnaGlqc3R1dnd4eXqCg4SFhoeIiYqSk5SVlpeYmZqio6Slpqeoqaqys7S1tre4ubrCw8TFxsfIycrS09TV1tfY2dri4+Tl5ufo6ery8/T19vf4+fr/2gAMAwEAAhEDEQA/APpGiiigAooooAKKKKACiiigAooooAKKKKACiiigAooooAKKKKACiiigAooooAKKKKACiiigAooooAKKKKACiiigAooooAKKKKACiiigAooooAKKKKACiiigAooooAKKKKACiiigAooooAKKKKACiiigAormdW8bQabq13p1po+q6tc2MC3F2LGKPbAjZKktI6BicH5Vy3HStfQ9ZsvEWhWer6XIZLS8iWWJmUqSp9QehoAv0UUUAFFFFABRRRQAUUUUAFFFFABRRRQAUUUUAFFFFACO6xozuwVVGSxOAB61xXhHxzd+KPGerWQtIodJgs7e60+bB824SRpF8xucBW8vKjGdpBJ5wOh8S6DH4m8P3OkXF5dWcN0AsklqUDlcglfnVhg4wQRyCR3rhtI8IeILX4uXV9d32vS6V9kt0S9aSxjSdomkPlukSq/l/PxhVyc7sjFAHp1FFFABVPV9VtND0m41LUZDHb267nIUsTzgKAOSxJAAHJJAq5WH4l8ML4kbT2bVb/Tm0+4+0RG0EJDSYwpZZY3B25JHHB56gYAKPgDxLqnifS9Tn1uyhsbm01Oa0FvCSdioFIDEk5YbsEjAyOBXVV5z8M/DOu6RrWv3WvyazGkt9PJbR3c1oYblJWQ+cVgGRKPLA5woD/KOWx6NQAUUUUAZfiHXI9A0o3Jia4uJXEFpaofmuJm+5GPTPUnoACTwDVDwBr974o8C6drGqRwRXdyH81LYMIwVkZeNxJ/h70eIfCr6tq9rrMGs6rY3VhBIkEVkLZlJb7xAmicByAFzkcccAnOH8IPDms+HvCfleIjqcN2CYhZ3k9vJFEod3DxCHgbvN+YsS2Vx0C0Ad/RRRQAUwzxC4EBlQTMhcR7huKggE464yRz7iqHiHXrLwx4dvta1WTy7SyhMsh7nHRR7k4AHckVg+AdGvVtZfE3iWPHiDWlEkyE5+xw9Y7ZPRVHJ9WLE54oA7CuK8WXPxHi1iQ+EI/C8WkQ26u8+tNPvL5bdjyzwoAXqB16nt2tc34w03UNehsdFtof+Jbez/wDE1n3qNtuo3GLBOSZDhDgcKWzjjIBL4Jv9b1XwfY6h4nSzS/ukMpSyjdIwhOUwHJbJXBOcdcYFb9AAVQFGAOAB2ooAKKKKACiiigAooooAKKKKACiiigAooooAKKKKACiiigAooooAKKKKAI47iGWWWKKaN5IWCyorAmMkAgMOxwQeexFSVwPj1JvCN/F4+0qNmW1Cw63bxj/j5s8/6zHd4idwP93cOld1b3EN3axXNtIssMyCSORTkMpGQR7EUAee+P8AxxaJrS+DLbX9P0Oe4g8zUNSvLqOI2sDcbYg5G6VhnHZR8x7Z63wj/Yg8JafH4Vkjl0iGLybV4ySrKhK5BPXlTz3685rZooAKKKKACiiigAooooAKKKKACiiigAooooAKKKKACvHfiD8dNQ8A+NjoFx4N+0Ry7DaXkmqLAlwrYG7mMhQGyDluMZOBXsVcV8UvhzZfEjwlJp8uyLUIAZLC6I/1UmOh/wBluh/PqBQBljxv8TmUFfhJkHkEeJbbn/x2j/hNvid/0SP/AMuW2/8Aia5X4EfEW9S5l+HXjXdb6zpeYrQzn5pETrET3KjkHuv0yfc6APHPFHxl8aeDNMXUfEnwtktLNnEfnLrkUqqx6Z2Rttz74r1vT7v7fplrebPL+0QpLsznbuUHGe/Wsvxn4Zi8Y+DNT8P3EogS+h8sSmPf5bZBVtuRnBAOMjpWpp9p9g0y1s9/mfZ4Ui34xu2qBnHbpQB43rHx81nSfiFN4P8A+ED36h9pMNv5uspCLgE/IwLR7RuGCBu6nHWuj/4Tb4nf9Ej/APLltv8A4moPjb8LF8f+Hft2kxhPEOnKWtXB2mdRyYif1U9j6Amq/wADfik/jXRZNF8QOU8RaWuyZZBta4QHG/B/iB4YeuD3oAv/APCbfE7/AKJH/wCXLbf/ABNY2s/GnxV4X1TS7TxT8NZNNTUrhYIp/wC2UmTJYA8pGRkZzgkE17FXN+OfB0XjbQ7ewluBavbX0F5FMYvM2tG2cYyOo3LnPGe9AHROWWNii7mAOFJxk+ma8O039oLxDq3iyXwzZfDn/icxM6taTa5HC25PvAF4wCe+AeRyOK9zrxT47/DS51BIvHfg8PB4g0orLMIOHnROQ49XTH4jI5wBQB0X/CbfE7/okf8A5ctt/wDE0f8ACbfE7/okf/ly23/xNXPhH8Srb4keEUuXKR6taYjv7deMNjhwP7rdR6HI7V3tAHk1r8YvEEHxD0jwn4o8AyaJPqj4jmbVFnXbg8jbHtbGOQG4zXrNc34m8HReI9f8Oas1wIJtCvGuU/dbzKrJtZM5G3J2nPP3eldJQB5h8RZf+Em+I/hLwKuHtWlOr6mmesMP+rUj+6zgg/QV2XjPXr7wx4RvtZ0zSH1mazQSGzSbymdAfmIO1ui5OMc4rhPAch174+ePtbb5k05INJtz/dAyZFH/AAOPP416wRkYPIoA8V8JfHPxT45guJfCvw3S/W1YLMP+EhhjZCRkZV0BweecY4PpXQ/8Jt8Tv+iR/wDly23/AMTXmfxA8Paj8D/iNB488HQk6DfSeXfWa/cjLHLRn0VsZU9mGPQH6C8O+INP8U+H7TWdHnE1pdxh0buPVSOxByCPUUAcT/wm3xO/6JH/AOXLbf8AxNO+HHxVvfHHibWND1TwxJoN5pKAypJd+a24tjGNi49c85r0eubsfB0Vh8RtV8VxXA36nZw20tuIsfNGT8+7PORtGMfw9aAOkooooAKKKKACiiigAooooAKKKKACiiigAooooAKKKKACiiigAooooAiubaG8tJrW6jWWCdGjkRujKRgg/UGvPPgxezWujav4OvpWkuvC2oPZI7n5ntiS0LH6rkD2UV6RXk8D/wBgftVXUA4h8SaGkxA6GaI7QfwSNv8AvqgD1iiiigAooooAKKK4T412dtefB3xAbu3inMFsZojIgby3HRlz0IyeR6mgDu6K+fPiD4btNF+A+j+LraW4PiOxgsZYdSMzB03BF2AZwEwcbQMcZOSSTtfEzw1Z+EdQ8GeItKkuBrkniG1s7nUHmYyXUcgcur84wSv3QAACQABxQB6hqEviJfFWkx6bb2L6G6y/2lLKW89CF/d+Xg45brkHitmvKPF9nbQ/tKfD26it4kuLiDUBNKqANIFt227j1OMnGemao6x4fsr39qaC3Cm1huvDJnvFtj5Ruj9oYYdlwedqZIOSFAPGRQB7LRXkngTTLfwn8d/E/hzQ1a20ebTYL9bMOSkUpYKSoJOM5P6egrvPGui6JrnhiWDxVN5WkQSJdXWZAiOsZ37XP93IBIGDx1oA36K8Z8EeCdI8Z+KoPGw8NWGi6BZNnQ7OGxjgkuiOl1LtUEjuin2PufZqACivINb0XwfLr+oSXnxp1zTbh7qRpbKLxVDClsxY5jVCMoFPAU9MYqj/AGF4I/6Lz4g/8LCD/CgD22iobNUWxgWKdriMRqFmZ95kGOGLdyeue9TUAeM/Hb4Z3Os28XjTwkJIfEWlASP9n4e4jXkEY/jXqPUZHPFdP8IfiZbfEjwks8rRx6xZgR39uvHzdpFH91sE+xyO1d/Xg/gbwta3n7Rms+JfA7vbeHbESQXzL/qbq6ZTvijx1QMVc9gV44K0Ae8UUUUAFeAfGzwNqPhbxBD8UfAgaG8tZBJqMUa5U/8ATUgdQRw49OfU17/UVz5H2Sb7Z5f2fY3m+bjZsxzuzxjHXNAHPfD/AMcad8QPCNtrWmkI7DZc2+7LW8o+8h/mD3BBrpq8M+BHhZLXxn4n8TeGnuIPB947W2nQTZ/0gq4JkH+ypDqpPOGOeQa9zoAKKKKAPm74jeHNR+C/xDg+IXgyFjo13Lt1CzXhELH5kOOiN1U/wt+Ar33w34i07xX4dtNa0acTWl3HvQ91PdWHZgcgj1FN8U/2N/wiep/8JR5R0j7M/wBr837vl4598+mOc4xzXmf7Ofha/wBB8L6pqEslxHpOr3In0u0uf9YkI3AStjgM6lOnZAe4oA9iooooA8i/Z8JvNH8W6u+d9/4juX3EH5hhWzz7ua9drx79mSRpvhPNJIdzvqk7MfUlUr2GgClrGkWOvaPdaXq1utxZ3cZjmib+IH+R7g9jXzp4W1S//Z++J8vhbxDPJJ4T1aTfa3cn3Y8nAk9ARwrj6N6Z+mK8t/aAtdDv/hwbTVoXn1S4nWLRooBmZ7puFCjup/i9vfbQB6irK6hkIZWGQQcgilrmfhxoOpeF/hzo2ja3dfar60t9kr5yFyxIQHuEBCA+i101AFfUXnj0y5e0mhgnWJmjlnjLxoQOCyggkDuAR9a4r4Q+KvEnjfwYviHxNFpsEd27C0hsoJEIVGZWZi7tnJHAGMY6nPFr4va1/YHwj8R3qttc2bQIR1DSkRgj6F8/hVjw5bQ+BPhLYR3W1E0jSRJcHoNyx7pD+J3GgDL+HHijxP4n1jxGutvpLadpGoS6bDJZWssbzyoRuclpGAUA4wAeT1457+vP/g9Y3Wl/B7TrqWFp7+/SXUpEyFMzys0ijJ4GVKjJrpj4iTTfD+n3/imJdHubt4YGtPM88pPKQqxBkHznccZAx1PQZoAp/ETWtY8OeA9S1rw8LJrrT4jcNHexs6Oi8sPlZSDjkHPbGOciHw5rmsah8LLbxDrF1plpfXWnC/8ANW3cW9urR713KZNzAA84Yd8Yq18Qbf7X8M/E0ACkyaTdKu7oD5TYP515z4Zk/wCE18EeDfBVtIXsI9KtrvXZFPAhAxHbZ9ZGU5HZEPrQB2nwu1zxZ4m8JRa34yt9PszfKslnbWcMiMsfOGcs7Z3DBAGMDrnOB2lZ11dahbaxplnY6SJ7CYS/arsXCxizCqNgEeMvuPHGMYJPYF9rrWn3usX2lWtyJb3T1ja6iVT+68wEoCcYyQpOM5AxnqKAOI13xd4qsvjVo/hKw/skaXqdsbrz57SVpkVA29ARKFJO3g4GNwyDjl/jT4kT+H/iF4Z8MaVbw3D6ldxpqEsqsRbxyEhACCAHbY5Gc8J05rJ8eX9roXxy8KazqUois7XSNQklbuqpHuP168CsXXNOuLI+B9c11RDquteK4b+9Dn/UKY2EcOfSOMKv1DHvQB2/xH8TeKND1Hw9p/gxdKub7V7trc21/DIxChdzTAo64VAPm4PUYrtrUXC2cK3skclyI1EzwoURnx8xVSSQM5wCTj1NcT4LjfxLruoePbuNjFcIbPRYjwVs1bJkwehlcbs/3QldB4T8U2/i7SZb+1sryyWG6ltXivFQPvjba33GYEbgRnPY0AbdFUbnWdPs9YstKuLkLfX4ka3hCklwgy54GABkcnHJA61eoAKK4nxD/wALT/t64/4RT/hD/wCyfl+z/wBpfavP+6N27Z8v3t2Mdsd6zP8Ai9//AFT/AP8AJ2gD0miqWjf2p/Y1r/wkH2P+09g+0/Yd3k7/APY3fNj6159rEsnjr4ySeEbmRx4f0KyS71C2RyovLiQgxxyY5KBTu29CeoPFAHp1cPF8QJ5PHLaILBPswcRfay5EO/zGU4lIwzEAAIF++GXdxXPeEdF02P8AaB8QnQreK003Q9Nht/slsNkEdzPh2ZUHyq21ADgfXmvVBbQC7N0IIxcMgjM2wbygJIXd1xkk49zQBLXkXxJYaf8AHn4ZX4IDTSXdsTnsVVf/AGrXrteTfF4f8XG+GB7/ANst/wC06APWaKKKACiiigArn/HHhufxf4Nv9Btr+Ow+3J5Uk725m2pnnCh1598/hXQUUAee+JfhrqPiX4U2ngu58QW8XkpDHLerpxJkSLGzCeb8p+UZOSDzgCrPjjwJq/jTSdDtn8QWtnPpV7FqDzLprOJpowQuF84bV+Y5GT25FdzRQBxGveBdV1n4geHfFEeu2ts+hpIq2/8AZzOJjIu2TLecMAjpxx6mnXHgbUZfi7B42TW7dEisf7P+wGwJLQ7i5/eeb97cTztxjAwa7WigDjNP8D6jZ/Fe/wDGUutW8sV7aizNitgVKRqQVxJ5p+bIGTtweeBxhPiD4G1Hxx/Z9vHrcFnptrKJrjT57Fp471gcqJNsqEoP7vQnr2rtKKAOR0vwlrCeMrfXtf1y0vUs7GS0s7Gy042sUBdkLScyuSSEC46Y6V11FFAHP3PgHwfeXUt1eeE9DnuJnMkssumws8jE5LMSuSSTkk1H/wAK48Ef9Cb4f/8ABXB/8TXSUUANjjSGJY4kVI0UKqKMBQOgA7CnUVyvxB8ax+CvD6zQwG91a9kFtplgn3rmduAMf3RnJP8AUigDB+I3iLUtU1WD4e+DZvL1nUo999eryNNtP4pDj+Nhwo9+2Qa7Tw14d07wn4ds9F0aHybS0j2KO7HuzHuxOST6msL4deCpPCul3F5rEwvfEWrP9o1S9PJd+yKf7i5wB9a7GgAorE8Za+PC3gnV9c/dlrG0kljWT7rSAfIp6dWwPxp/hDVbnXfBOi6vfrEtzqFhBdSrCpCK0iBiACScc9yaANivK/Gl9dfEfxY3w88PzvDpdrtk8R38R5VO1qh/vN39B64IO38SPGV5osNn4e8LoLjxRrbGKxj7W6/xTv6Koz9T64Na/gfwdZ+CPDMWmWjGed2M15dvy91O335GPqT+QAoA2rCxtdL0+3sdPgS3tbaNYoYoxhUUDAAqxRXHfFXxrN4A+Hl7rtklvLeRvHFbRXAJR3ZwCCAQThdx4PagDsaKRN2xfMILY+YqMDNecfETxDqGr6xB8PfB8xj1bUY9+oXqdNOtP4mP+2wOFHv2yDQBmXzN8ZPGzaXCxPgnQLgG+kH3dUul5EQPeNOp9fxBHrSqqKFQBVUYAAwAKzfDnh7TvCvh600XRoBBZ2ibEXux6lie5JySfU1p0AFFcZ8QvGlx4TuPDNpp62z3Wua1BYFbhSQsTnDuACORlfbmuzoA8i/ZxxF4F1qy2ohs9euYSqHj7sZ4HYc4/CvXa8l+EK/2V8Q/iToDfL5OrrfRr/szhmH5AL+detUAU9W1ay0LR7rVNVnW3s7SMyyyt0VR/X271534C0m98a+JD8SPFEDRKyGPw/p8g/49Lc/8tiP+ejjnPofQjFW7b/hcnjZ9Piy3gnQLgfa3B+XVLteRGPWNO/Yn6gj1lVCqFUAADAAHSgBaKK4yPxpcXHxrk8GW62xtLbRft9xIVJlEplVQmc4A2sD0zzQBs+L/AAtY+NPCd9oGql1trxAC8ZwyMGDKw9wwBrEvPBWua7oy6L4p8Tx3mlkKtwlnYG2mu0BzskkMr8HAzsVSeema7WigDz74x2tq3wpuNIS2hP22e1sLVGQbYmeVEVh6bRkj6VneNtP0DW/G3gPRri3sLqwiN1dSPKiOhht4tojyeCu5wSOnyc9K9J1DTbHVrJ7PVbK3vrVyC0FzEsiNg5GVYEHB5qG90HSNSjto9R0qxu0tGDWyz2yOISOAUBHynjtQBCmlaZceE30zR4rW2025tWjgW1iUQhJFPKquAQd2eOuayfhz4Cs/h34Tj0e0nN5MXMlxeOmxp36A4ycAKAoGTgCurAwMDgVDePdJZytp8MM9yF/dxzymJGPoWCsQPfafpQBwekWlrfftA+ItSggjSTTNHtbGWRUALySs0pJPchFjHsMVmfDDR/DN3qGsa/LpulDUb3XrxtPLW8YmiiiIjATjcv3Sxx/e967Dwb4audCXVb3VpoZ9U1i9a8ujBny4/lCpGpOCQqqBkgEnPArXs9E0rTr25vNP0yztbq6O64ngt1R5j6uwGW/GgDmPGXw2tPGfi3w5rF9etHBoryNLZiPIuwSjKpbcMAMgJGDuHHFP+I3w8i+IljpdndahJZQWV8tzKI4yWnTaVaMEMNuQxG7nHpXZUUAZmrXtr4Y8KXt8saRWul2TyrGowqpGhIUAdsDGK8Y8D6VZ6tBovhj4jWFrCml2EWvWZafIunnkbe8rFVwQ7geWMjLclsCvdLuzttQs5bS/t4rq2mUpLDMgdHU9QVPBH1qCfRtLubu0urnTbSa4sv8Aj1mkgVng/wBxiMr0HSgDze70nwzr3x01qfxDp+lzW+laTaWzLfQRssk88jFWO8fM21EQHtnHevVFVUUKgCqowABgAVSl0TSp9Wj1WbTLOTUYl2R3j26mZF9A+Mge2avUAFFFFABXGz+B7q28fX/inQ9bXTm1O2jg1CGS0Eu/yxhJEYsAjBePmDj2rsqR0WSNkkUOjAhlYZBHoaAPMfgXa2snhzXNes8tFrOtXM0LuxZ2iVtilmPJYlWYnuWNen1R0rQ9J0K3eDQ9LstNhdtzR2dukKsfUhQMmr1ABXkfxXLXHxe+F1lGRn+0J52GMkBPKP8ALdXrleS66p1n9qbw1aJ88eiaPNeygfwmQtHz+aH8RQB61RRRQAUUUUAFFFFABRRRQAUUUUAFFFFABRRRQAUUUUAFeCfEP4SfE3xf8Q5PEOm+I9MsIrYmPTRHeTwyW8X1SPhjk5IPOcdAK97rjviZqEdr4btrC70dNXs9ZvYdMmtjevbMRK20EFVJPPUZHGeaAPHv+FN/G/8A6KP/AOVy9/8AiKP+FN/G/wD6KP8A+Vy9/wDiK981LXdP8P8AkW89vqLKU/diy0u5ulUDjBMUbBfocUzTPFOn6teC1tbfVo5Cpbdd6Pd2yYH+3LEq59s5oA+etT+Afxd1uz+y6z42tNQttwbybvVruVMjodrRkZr6P0LT30nw7punSurvZ2kUDMvRiiBSR+VclqOveJbL4seG9JuZbKHStUW+P2eBC7sIUUqzSMB13g7VAxjGWrvKAPnLXfgx8W9X8bX3iWHxZplje3RKK9pf3MJjhz8sYKx8KABxnrzyeai/4U38b/8Aoo//AJXL3/4ivX/iHd27y+H9B1HRYtWsdb1JLeVGvHhaIp+9WTaqneo8skgsvRRyCcbeqeJ7DR7wW13b6rJIVD5tNIurlMH/AG4o2XPHTOaAPBf+FN/G/wD6KP8A+Vy9/wDiKrz/AAA+KOr31k/iTxhZ6nBbTrIFudSupygyMlQ8eM4+lfQuk+I7LWrh4bODU42RdxN5pVzaqRnHDSxqCfYHNczFrviWP4wWOi6nNZx6ddaXcXS2tshYqySIqlpGwWOGPACgZ79aAO1vPtP2Gf7B5X2ry28jzs7N+Pl3Y5xnGcV82D4F/F+PWL/VLbxrY2t7qEnmXU1rqd1CZTk4ztiHAzwOgHSvpmvIvCXifV7Hw/eXOhW114ouNU8QXIsbO81V90FkrtGH3uH2oDGTzgfNgEnAIBxX/Cm/jf8A9FH/APK5e/8AxFH/AApv43/9FH/8rl7/APEV71qfiaz0eeOC/ttTaV4xIfsWlXV2gySMb4o2XOQeCQehxyKXSvEtjrN01vZwapG6oXJvNJurVMZA4eWNVJ56A56nHBoA8O8OfA34iQ/ELQ/EHi7xPZ6rFplykpMt/cTyhVOdq+Ynr7ivoiuEl17xLb/FzR9HvpbKLTL60u5RbW6F2/dFQrNI2Mkhs4AGOmW613dAHlupR/8ACL/tI6ZqR+Wz8Vaa9jI2OPtMOGUk+pUKo/H8Oq+Iuk+JNd8FXel+Db21sb+7xE9xcu6BIjnftKqxDEcZx3PQ4qL4leF7nxP4SI0llj1nTZ01DTJCOlxEdyj6MMr+Oe1anhbxHB4r8KWms2KbTcR/PBISrQyjh424yCrAg8dqAPn3TvgR8YNIsUstJ8c29jax52QW2r3caLk5OFWMAc1Z/wCFN/G//oo//lcvf/iK9U+HfiPxX4lm1PUNVttO/siTUZ4bVorti8KRHy8KvkjzAXRjvZwfm+6MYrbbx1pKOVNpr+VODjw7fkfmIeaAPEP+FN/G/wD6KP8A+Vy9/wDiK674O/CbxR4G8XatrnizVbPUZb+28rzIbiWWRm3hizs6L/d9TXqI1OfUtDN3oMDGZztjTUoJrTHzYJZHQPwMkDAzgcgHNYHw11zV9c03XD4guYrm5sNcu7BXhhESbImCjC5Jx1PJJ56mgDsqKKKACiiigAooooAKKKKACiiigAooooAKKKKACiiigAooooAKKKKACvLvhnF/b/xI8ceM3G6GS8XSbFuxjgADsPUMwU/UGum+IviK50Hwq8WjjzNb1NxY6ZCDy0z8bvogy5PbbWh4N8M23g7wfpug2Z3JZwhWfH+sc8u/4sSfxoA26KKKACiiigAooooAKKKKACiiigAooooAKKKKACiiigArlPGvh3VNc1Dw5d6U1mw0nUftkkF47Ir/ALt0VgVVuVL5A4z6iurooAydS8O2us+Q+o3GoLLEm0mw1K5s1Y9ztikXPPrkj1pmmeFtP0m8F1a3GrSSBSu271i7uUwf9iWVlz74zWzRQB594i0LxnqPxF0TX9PsdCNpoi3UcUU+pTLJcLMqrk4tyEICDgbu/NegLuKjeAGxyAcgH60tFAHBam39tfHTRLOI74vD2nXF7cFTkJLPiKNW9DsEhHsTXS6p4YsNYvBc3dxqscgUJi01e6tkwP8AYikVc89cZq5puj6Zo0UkWkadaWEcjmR0tYFiDserEKBk+9XKAMrSfDllotw81nPqcjOu0i81W5ulAznhZZGAPuBmuTvdD8az/FC08TQ2Gg/ZLSzlsUgbU5hJIjurbyfs5APyj5ee/PevQaKAK2pJdyaVdpprIl40Di3aRiFEm07SSASBnHQGvNvDfwu1HwTeaJe+Fjpcdymk/wBn6wJd6pPJlXE4CrmRg24YYqSpA3CvUqKAMjVfDNjrN0txeT6pG6oEAs9WurVMZJ5SKRVJ56kZ6DPAo0rwzY6NdNcWc+qSOyFCLzVrq6TGQeElkZQeOoGeozya16KAPPdY0Pxrd/ErTvEdnYaCbTTILi2ihl1OZZJ0kK4diLchDhB8o3dTyetehUUUAFYdj4Yi0rxBqepaXcyW0eqLvubQKDGbjgeeo/hYgYYdGwCeRzuUUAcf8OvDuu+FfDNnomrPpzW9jE8avavJI9wxct5jFguwnJyvzcnO7tV1vAuku5Y3ev5Y5OPEV+B+Qm4ro6KAM1LGXRtEa30ONruaPJiTUtQmfeScndM4kfHXHB7DgVy/w68P+KfDcusReILfSDBqWpXOpebZXsrtG8rA+XsaJQQOfm3fhXdUUAFFFFABRRRQAUUUUAFFFFABRRRQAUUUUAFFFFABRRRQAUUUUAFFFFAGHH4ZibxlJ4iv7h7u4SH7PYxMoCWcZA37R3Zz1brgAdBzuUUUAFFFFABRRRQAUUUUAFFFFABRRRQAUUUUAFFFFABRRRQAUUUUAFFFFABRRRQAUUUUAFFFFABRRRQAUUUUAFFFFABRRRQAUUUUAFFFFABRRRQAUUUUAFFFFABRRRQAUUUUAFFFFABRRRQAUUUUAFFFFABRRRQAUUUUAFFFFABRRRQB/9k=)"
      ],
      "metadata": {
        "id": "mSituyJe381-"
      }
    },
    {
      "cell_type": "code",
      "source": [
        "def obj_rule(model):\n",
        "  ans=0\n",
        "  for i in range(1,5):\n",
        "    for j in range(1,5):\n",
        "      for k in range(1,5):\n",
        "        tmp=0\n",
        "        for curr in range(1,8):\n",
        "          tmp+=model.u[i,curr]*model.v[j,curr]*model.w[k,curr]\n",
        "        if (i==1 and j==1 and k==1) or (i==2 and j==3 and k==1) or (i==1 and j==2 and k==2) or (i==2 and j==4 and k==2) or \\\n",
        "              (i==3 and j==1 and k==3) or (i==4 and j==3 and k==3) or (i==3 and j==2 and k==4) or (i==4 and j==4 and k==4) :\n",
        "          ans+=(tmp-1.0)**2\n",
        "        else:\n",
        "          ans+=tmp**2\n",
        "\n",
        "  return ans"
      ],
      "metadata": {
        "id": "Mski_XljNFeN"
      },
      "execution_count": 287,
      "outputs": []
    },
    {
      "cell_type": "code",
      "source": [
        "model.obj = pyo.Objective(rule=obj_rule, sense=pyo.minimize)"
      ],
      "metadata": {
        "id": "4j2NrRpFM9va"
      },
      "execution_count": 288,
      "outputs": []
    },
    {
      "cell_type": "markdown",
      "source": [
        "# Displaying model before optimization"
      ],
      "metadata": {
        "id": "ZhJBAMNC4bp9"
      }
    },
    {
      "cell_type": "code",
      "source": [
        "model.display()"
      ],
      "metadata": {
        "colab": {
          "base_uri": "https://localhost:8080/"
        },
        "id": "KB0eltuwNHTd",
        "outputId": "4b84d8a7-75b8-4fd9-b517-ee32535d3f50"
      },
      "execution_count": 289,
      "outputs": [
        {
          "output_type": "stream",
          "name": "stdout",
          "text": [
            "Model unknown\n",
            "\n",
            "  Variables:\n",
            "    u : Size=28, Index=iset\n",
            "        Key    : Lower : Value : Upper : Fixed : Stale : Domain\n",
            "        (1, 1) :    -1 :   1.0 :     1 : False : False :  Reals\n",
            "        (1, 2) :    -1 :   0.0 :     1 : False : False :  Reals\n",
            "        (1, 3) :    -1 :  -1.0 :     1 : False : False :  Reals\n",
            "        (1, 4) :    -1 :   1.0 :     1 : False : False :  Reals\n",
            "        (1, 5) :    -1 :  -1.0 :     1 : False : False :  Reals\n",
            "        (1, 6) :    -1 :  -1.0 :     1 : False : False :  Reals\n",
            "        (1, 7) :    -1 :   0.0 :     1 : False : False :  Reals\n",
            "        (2, 1) :    -1 :   1.0 :     1 : False : False :  Reals\n",
            "        (2, 2) :    -1 :  -1.0 :     1 : False : False :  Reals\n",
            "        (2, 3) :    -1 :  -1.0 :     1 : False : False :  Reals\n",
            "        (2, 4) :    -1 :   0.0 :     1 : False : False :  Reals\n",
            "        (2, 5) :    -1 :   1.0 :     1 : False : False :  Reals\n",
            "        (2, 6) :    -1 :   0.0 :     1 : False : False :  Reals\n",
            "        (2, 7) :    -1 :  -1.0 :     1 : False : False :  Reals\n",
            "        (3, 1) :    -1 :   1.0 :     1 : False : False :  Reals\n",
            "        (3, 2) :    -1 :   1.0 :     1 : False : False :  Reals\n",
            "        (3, 3) :    -1 :  -1.0 :     1 : False : False :  Reals\n",
            "        (3, 4) :    -1 :  -1.0 :     1 : False : False :  Reals\n",
            "        (3, 5) :    -1 :  -1.0 :     1 : False : False :  Reals\n",
            "        (3, 6) :    -1 :   0.0 :     1 : False : False :  Reals\n",
            "        (3, 7) :    -1 :   0.0 :     1 : False : False :  Reals\n",
            "        (4, 1) :    -1 :   0.0 :     1 : False : False :  Reals\n",
            "        (4, 2) :    -1 :   1.0 :     1 : False : False :  Reals\n",
            "        (4, 3) :    -1 :  -1.0 :     1 : False : False :  Reals\n",
            "        (4, 4) :    -1 :   0.0 :     1 : False : False :  Reals\n",
            "        (4, 5) :    -1 :  -1.0 :     1 : False : False :  Reals\n",
            "        (4, 6) :    -1 :  -1.0 :     1 : False : False :  Reals\n",
            "        (4, 7) :    -1 :   1.0 :     1 : False : False :  Reals\n",
            "    v : Size=28, Index=iset\n",
            "        Key    : Lower : Value : Upper : Fixed : Stale : Domain\n",
            "        (1, 1) :    -1 :  -1.0 :     1 : False : False :  Reals\n",
            "        (1, 2) :    -1 :   1.0 :     1 : False : False :  Reals\n",
            "        (1, 3) :    -1 :  -1.0 :     1 : False : False :  Reals\n",
            "        (1, 4) :    -1 :   0.0 :     1 : False : False :  Reals\n",
            "        (1, 5) :    -1 :  -1.0 :     1 : False : False :  Reals\n",
            "        (1, 6) :    -1 :   0.0 :     1 : False : False :  Reals\n",
            "        (1, 7) :    -1 :   1.0 :     1 : False : False :  Reals\n",
            "        (2, 1) :    -1 :  -1.0 :     1 : False : False :  Reals\n",
            "        (2, 2) :    -1 :   1.0 :     1 : False : False :  Reals\n",
            "        (2, 3) :    -1 :  -1.0 :     1 : False : False :  Reals\n",
            "        (2, 4) :    -1 :   0.0 :     1 : False : False :  Reals\n",
            "        (2, 5) :    -1 :   0.0 :     1 : False : False :  Reals\n",
            "        (2, 6) :    -1 :   1.0 :     1 : False : False :  Reals\n",
            "        (2, 7) :    -1 :   0.0 :     1 : False : False :  Reals\n",
            "        (3, 1) :    -1 :   1.0 :     1 : False : False :  Reals\n",
            "        (3, 2) :    -1 :  -1.0 :     1 : False : False :  Reals\n",
            "        (3, 3) :    -1 :  -1.0 :     1 : False : False :  Reals\n",
            "        (3, 4) :    -1 :  -1.0 :     1 : False : False :  Reals\n",
            "        (3, 5) :    -1 :   1.0 :     1 : False : False :  Reals\n",
            "        (3, 6) :    -1 :  -1.0 :     1 : False : False :  Reals\n",
            "        (3, 7) :    -1 :   0.0 :     1 : False : False :  Reals\n",
            "        (4, 1) :    -1 :  -1.0 :     1 : False : False :  Reals\n",
            "        (4, 2) :    -1 :  -1.0 :     1 : False : False :  Reals\n",
            "        (4, 3) :    -1 :   0.0 :     1 : False : False :  Reals\n",
            "        (4, 4) :    -1 :  -1.0 :     1 : False : False :  Reals\n",
            "        (4, 5) :    -1 :   0.0 :     1 : False : False :  Reals\n",
            "        (4, 6) :    -1 :   1.0 :     1 : False : False :  Reals\n",
            "        (4, 7) :    -1 :   0.0 :     1 : False : False :  Reals\n",
            "    w : Size=28, Index=iset\n",
            "        Key    : Lower : Value : Upper : Fixed : Stale : Domain\n",
            "        (1, 1) :    -1 :  -1.0 :     1 : False : False :  Reals\n",
            "        (1, 2) :    -1 :   1.0 :     1 : False : False :  Reals\n",
            "        (1, 3) :    -1 :   0.0 :     1 : False : False :  Reals\n",
            "        (1, 4) :    -1 :  -1.0 :     1 : False : False :  Reals\n",
            "        (1, 5) :    -1 :  -1.0 :     1 : False : False :  Reals\n",
            "        (1, 6) :    -1 :   1.0 :     1 : False : False :  Reals\n",
            "        (1, 7) :    -1 :   0.0 :     1 : False : False :  Reals\n",
            "        (2, 1) :    -1 :   1.0 :     1 : False : False :  Reals\n",
            "        (2, 2) :    -1 :   1.0 :     1 : False : False :  Reals\n",
            "        (2, 3) :    -1 :   0.0 :     1 : False : False :  Reals\n",
            "        (2, 4) :    -1 :   1.0 :     1 : False : False :  Reals\n",
            "        (2, 5) :    -1 :   1.0 :     1 : False : False :  Reals\n",
            "        (2, 6) :    -1 :   0.0 :     1 : False : False :  Reals\n",
            "        (2, 7) :    -1 :   1.0 :     1 : False : False :  Reals\n",
            "        (3, 1) :    -1 :   1.0 :     1 : False : False :  Reals\n",
            "        (3, 2) :    -1 :  -1.0 :     1 : False : False :  Reals\n",
            "        (3, 3) :    -1 :  -1.0 :     1 : False : False :  Reals\n",
            "        (3, 4) :    -1 :   1.0 :     1 : False : False :  Reals\n",
            "        (3, 5) :    -1 :   0.0 :     1 : False : False :  Reals\n",
            "        (3, 6) :    -1 :   1.0 :     1 : False : False :  Reals\n",
            "        (3, 7) :    -1 :   1.0 :     1 : False : False :  Reals\n",
            "        (4, 1) :    -1 :  -1.0 :     1 : False : False :  Reals\n",
            "        (4, 2) :    -1 :   1.0 :     1 : False : False :  Reals\n",
            "        (4, 3) :    -1 :   1.0 :     1 : False : False :  Reals\n",
            "        (4, 4) :    -1 :   1.0 :     1 : False : False :  Reals\n",
            "        (4, 5) :    -1 :  -1.0 :     1 : False : False :  Reals\n",
            "        (4, 6) :    -1 :   0.0 :     1 : False : False :  Reals\n",
            "        (4, 7) :    -1 :  -1.0 :     1 : False : False :  Reals\n",
            "\n",
            "  Objectives:\n",
            "    obj : Size=1, Index=None, Active=True\n",
            "        Key  : Active : Value\n",
            "        None :   True : 196.0\n",
            "\n",
            "  Constraints:\n",
            "    None\n"
          ]
        }
      ]
    },
    {
      "cell_type": "markdown",
      "source": [
        "# Solving the model with nonlinear solver **ipopt**\n",
        "\n",
        "(if you encountered any error try the command 'chmod +x ipopt')"
      ],
      "metadata": {
        "id": "pPj-m_wg4gD5"
      }
    },
    {
      "cell_type": "code",
      "source": [
        "result=pyo.SolverFactory('ipopt', executable='./ipopt').solve(model)"
      ],
      "metadata": {
        "id": "S1Ehz4jyOMFa"
      },
      "execution_count": 290,
      "outputs": []
    },
    {
      "cell_type": "code",
      "source": [
        "model.display()"
      ],
      "metadata": {
        "colab": {
          "base_uri": "https://localhost:8080/"
        },
        "id": "HR0-TviPQIup",
        "outputId": "5f344391-4924-4328-ab07-23dc4d461a43"
      },
      "execution_count": 291,
      "outputs": [
        {
          "output_type": "stream",
          "name": "stdout",
          "text": [
            "Model unknown\n",
            "\n",
            "  Variables:\n",
            "    u : Size=28, Index=iset\n",
            "        Key    : Lower : Value                 : Upper : Fixed : Stale : Domain\n",
            "        (1, 1) :    -1 :    0.9300903639019524 :     1 : False : False :  Reals\n",
            "        (1, 2) :    -1 :   0.24545679904704104 :     1 : False : False :  Reals\n",
            "        (1, 3) :    -1 :   -0.6639466827005419 :     1 : False : False :  Reals\n",
            "        (1, 4) :    -1 :  0.020951542070064267 :     1 : False : False :  Reals\n",
            "        (1, 5) :    -1 :  0.024822801085956366 :     1 : False : False :  Reals\n",
            "        (1, 6) :    -1 :   0.30333832988110515 :     1 : False : False :  Reals\n",
            "        (1, 7) :    -1 :    0.2742465066118971 :     1 : False : False :  Reals\n",
            "        (2, 1) :    -1 :  -0.36557546623598247 :     1 : False : False :  Reals\n",
            "        (2, 2) :    -1 :   -0.8413605335315177 :     1 : False : False :  Reals\n",
            "        (2, 3) :    -1 :   -0.7952742209626308 :     1 : False : False :  Reals\n",
            "        (2, 4) :    -1 :   0.02509573954535949 :     1 : False : False :  Reals\n",
            "        (2, 5) :    -1 : -0.009756687005208901 :     1 : False : False :  Reals\n",
            "        (2, 6) :    -1 :   -0.9423249532892564 :     1 : False : False :  Reals\n",
            "        (2, 7) :    -1 :   -0.9400439903061535 :     1 : False : False :  Reals\n",
            "        (3, 1) :    -1 :   -0.6130468849481298 :     1 : False : False :  Reals\n",
            "        (3, 2) :    -1 :   0.19981480685393943 :     1 : False : False :  Reals\n",
            "        (3, 3) :    -1 :   -0.5404876424940288 :     1 : False : False :  Reals\n",
            "        (3, 4) :    -1 :   -0.7719082920098153 :     1 : False : False :  Reals\n",
            "        (3, 5) :    -1 :   -0.9145353432479426 :     1 : False : False :  Reals\n",
            "        (3, 6) :    -1 :   -0.9621516123252362 :     1 : False : False :  Reals\n",
            "        (3, 7) :    -1 :   -0.1807630370210074 :     1 : False : False :  Reals\n",
            "        (4, 1) :    -1 :   0.24096037082781227 :     1 : False : False :  Reals\n",
            "        (4, 2) :    -1 :   -0.6849119115448342 :     1 : False : False :  Reals\n",
            "        (4, 3) :    -1 :   -0.6473952205458494 :     1 : False : False :  Reals\n",
            "        (4, 4) :    -1 :   -0.9245904908621831 :     1 : False : False :  Reals\n",
            "        (4, 5) :    -1 :   0.35946152784494406 :     1 : False : False :  Reals\n",
            "        (4, 6) :    -1 :  -0.29186690372579244 :     1 : False : False :  Reals\n",
            "        (4, 7) :    -1 :    0.6196076075023734 :     1 : False : False :  Reals\n",
            "    v : Size=28, Index=iset\n",
            "        Key    : Lower : Value                : Upper : Fixed : Stale : Domain\n",
            "        (1, 1) :    -1 : -0.46335329382299967 :     1 : False : False :  Reals\n",
            "        (1, 2) :    -1 :   0.7351913065187992 :     1 : False : False :  Reals\n",
            "        (1, 3) :    -1 :   -0.823137370064569 :     1 : False : False :  Reals\n",
            "        (1, 4) :    -1 : -0.36745618948397946 :     1 : False : False :  Reals\n",
            "        (1, 5) :    -1 :  -0.8994745661374312 :     1 : False : False :  Reals\n",
            "        (1, 6) :    -1 :  0.41760276951450853 :     1 : False : False :  Reals\n",
            "        (1, 7) :    -1 :  0.18382092079353454 :     1 : False : False :  Reals\n",
            "        (2, 1) :    -1 :   0.9335383848975795 :     1 : False : False :  Reals\n",
            "        (2, 2) :    -1 :   0.7226428282377271 :     1 : False : False :  Reals\n",
            "        (2, 3) :    -1 :  -0.8090877998032149 :     1 : False : False :  Reals\n",
            "        (2, 4) :    -1 :  0.05275100296938459 :     1 : False : False :  Reals\n",
            "        (2, 5) :    -1 :  0.12912614366407377 :     1 : False : False :  Reals\n",
            "        (2, 6) :    -1 :   0.9498199928136808 :     1 : False : False :  Reals\n",
            "        (2, 7) :    -1 : -0.37035212792372946 :     1 : False : False :  Reals\n",
            "        (3, 1) :    -1 :  -0.1351777259935578 :     1 : False : False :  Reals\n",
            "        (3, 2) :    -1 :  -0.6137855318933155 :     1 : False : False :  Reals\n",
            "        (3, 3) :    -1 : -0.24014042165355645 :     1 : False : False :  Reals\n",
            "        (3, 4) :    -1 :  -0.9348752097231815 :     1 : False : False :  Reals\n",
            "        (3, 5) :    -1 :   0.7509398854725418 :     1 : False : False :  Reals\n",
            "        (3, 6) :    -1 :  -0.9566035484591993 :     1 : False : False :  Reals\n",
            "        (3, 7) :    -1 :   0.4676737548606935 :     1 : False : False :  Reals\n",
            "        (4, 1) :    -1 :  0.27234857293524856 :     1 : False : False :  Reals\n",
            "        (4, 2) :    -1 :  -0.6033092685008544 :     1 : False : False :  Reals\n",
            "        (4, 3) :    -1 : -0.23604161609837837 :     1 : False : False :  Reals\n",
            "        (4, 4) :    -1 :  0.13420814654936045 :     1 : False : False :  Reals\n",
            "        (4, 5) :    -1 : -0.10780289117566463 :     1 : False : False :  Reals\n",
            "        (4, 6) :    -1 :  0.43191561481622537 :     1 : False : False :  Reals\n",
            "        (4, 7) :    -1 :  -0.9422430538769299 :     1 : False : False :  Reals\n",
            "    w : Size=28, Index=iset\n",
            "        Key    : Lower : Value                 : Upper : Fixed : Stale : Domain\n",
            "        (1, 1) :    -1 :   -0.8750551921090162 :     1 : False : False :  Reals\n",
            "        (1, 2) :    -1 :    0.0818197172068977 :     1 : False : False :  Reals\n",
            "        (1, 3) :    -1 :      0.89162788955022 :     1 : False : False :  Reals\n",
            "        (1, 4) :    -1 :   -0.7469898438512056 :     1 : False : False :  Reals\n",
            "        (1, 5) :    -1 :    0.5360057886010279 :     1 : False : False :  Reals\n",
            "        (1, 6) :    -1 :    0.9595806120491266 :     1 : False : False :  Reals\n",
            "        (1, 7) :    -1 :   0.10892010285700776 :     1 : False : False :  Reals\n",
            "        (2, 1) :    -1 :    0.8902502727214254 :     1 : False : False :  Reals\n",
            "        (2, 2) :    -1 :     0.569944647354021 :     1 : False : False :  Reals\n",
            "        (2, 3) :    -1 :   0.44255139641039265 :     1 : False : False :  Reals\n",
            "        (2, 4) :    -1 :  -0.37076162343687896 :     1 : False : False :  Reals\n",
            "        (2, 5) :    -1 :   -0.5453133832666484 :     1 : False : False :  Reals\n",
            "        (2, 6) :    -1 :  -0.11312366337918382 :     1 : False : False :  Reals\n",
            "        (2, 7) :    -1 :    0.7587223152730003 :     1 : False : False :  Reals\n",
            "        (3, 1) :    -1 : -0.023751214810778416 :     1 : False : False :  Reals\n",
            "        (3, 2) :    -1 :   0.12413360665565719 :     1 : False : False :  Reals\n",
            "        (3, 3) :    -1 :   0.02420104064149787 :     1 : False : False :  Reals\n",
            "        (3, 4) :    -1 :    0.9176184293779526 :     1 : False : False :  Reals\n",
            "        (3, 5) :    -1 :    0.8132066894167038 :     1 : False : False :  Reals\n",
            "        (3, 6) :    -1 :  -0.10970197192401925 :     1 : False : False :  Reals\n",
            "        (3, 7) :    -1 :   -0.1337998156695727 :     1 : False : False :  Reals\n",
            "        (4, 1) :    -1 :   0.02416363190702497 :     1 : False : False :  Reals\n",
            "        (4, 2) :    -1 :    0.8646973347332306 :     1 : False : False :  Reals\n",
            "        (4, 3) :    -1 :  0.012011973998074363 :     1 : False : False :  Reals\n",
            "        (4, 4) :    -1 :   0.45545154173643115 :     1 : False : False :  Reals\n",
            "        (4, 5) :    -1 :   -0.8273277535623281 :     1 : False : False :  Reals\n",
            "        (4, 6) :    -1 :   -0.9486680069109573 :     1 : False : False :  Reals\n",
            "        (4, 7) :    -1 :   -0.9320308123008993 :     1 : False : False :  Reals\n",
            "\n",
            "  Objectives:\n",
            "    obj : Size=1, Index=None, Active=True\n",
            "        Key  : Active : Value\n",
            "        None :   True : 1.7358226431425637e-15\n",
            "\n",
            "  Constraints:\n",
            "    None\n"
          ]
        }
      ]
    },
    {
      "cell_type": "markdown",
      "source": [
        "# Displaying discovered algorithm (discovered U,V,W matrices):"
      ],
      "metadata": {
        "id": "h92c_ezk47qb"
      }
    },
    {
      "cell_type": "code",
      "source": [
        "U_matrix=np.ones((4,7))\n",
        "V_matrix=np.ones((4,7))\n",
        "W_matrix=np.ones((4,7))\n",
        "for i in range(1,5):\n",
        "  for j in range(1,8):\n",
        "    U_matrix[i-1][j-1]=pyo.value(model.u[i,j])\n",
        "    V_matrix[i-1][j-1]=pyo.value(model.u[i,j])\n",
        "    W_matrix[i-1][j-1]=pyo.value(model.u[i,j])\n",
        "print(\"U: \\n\",U_matrix)\n",
        "print(\"V: \\n\",V_matrix)\n",
        "print(\"W: \\n\",W_matrix)"
      ],
      "metadata": {
        "colab": {
          "base_uri": "https://localhost:8080/"
        },
        "id": "AzZN532lYgY7",
        "outputId": "3c2f5bc2-4700-44ea-e45f-9d49591d8dd5"
      },
      "execution_count": 298,
      "outputs": [
        {
          "output_type": "stream",
          "name": "stdout",
          "text": [
            "U: \n",
            " [[ 0.93009036  0.2454568  -0.66394668  0.02095154  0.0248228   0.30333833\n",
            "   0.27424651]\n",
            " [-0.36557547 -0.84136053 -0.79527422  0.02509574 -0.00975669 -0.94232495\n",
            "  -0.94004399]\n",
            " [-0.61304688  0.19981481 -0.54048764 -0.77190829 -0.91453534 -0.96215161\n",
            "  -0.18076304]\n",
            " [ 0.24096037 -0.68491191 -0.64739522 -0.92459049  0.35946153 -0.2918669\n",
            "   0.61960761]]\n",
            "V: \n",
            " [[ 0.93009036  0.2454568  -0.66394668  0.02095154  0.0248228   0.30333833\n",
            "   0.27424651]\n",
            " [-0.36557547 -0.84136053 -0.79527422  0.02509574 -0.00975669 -0.94232495\n",
            "  -0.94004399]\n",
            " [-0.61304688  0.19981481 -0.54048764 -0.77190829 -0.91453534 -0.96215161\n",
            "  -0.18076304]\n",
            " [ 0.24096037 -0.68491191 -0.64739522 -0.92459049  0.35946153 -0.2918669\n",
            "   0.61960761]]\n",
            "W: \n",
            " [[ 0.93009036  0.2454568  -0.66394668  0.02095154  0.0248228   0.30333833\n",
            "   0.27424651]\n",
            " [-0.36557547 -0.84136053 -0.79527422  0.02509574 -0.00975669 -0.94232495\n",
            "  -0.94004399]\n",
            " [-0.61304688  0.19981481 -0.54048764 -0.77190829 -0.91453534 -0.96215161\n",
            "  -0.18076304]\n",
            " [ 0.24096037 -0.68491191 -0.64739522 -0.92459049  0.35946153 -0.2918669\n",
            "   0.61960761]]\n"
          ]
        }
      ]
    },
    {
      "cell_type": "code",
      "source": [],
      "metadata": {
        "id": "y3_DpF_cbrbr"
      },
      "execution_count": null,
      "outputs": []
    },
    {
      "cell_type": "markdown",
      "source": [
        "# All at once function:"
      ],
      "metadata": {
        "id": "75ukNfdH6G6u"
      }
    },
    {
      "cell_type": "code",
      "source": [
        "def find_solution():\n",
        "  model=pyo.ConcreteModel()\n",
        "  model.rowset = pyo.Set(initialize=[1, 2, 3, 4])\n",
        "  model.columnset = pyo.Set(initialize=[1, 2, 3, 4, 5, 6, 7])\n",
        "  model.iset=model.rowset*model.columnset\n",
        "  model.u=pyo.Var(model.iset, domain=pyo.Reals,bounds=(-1,1))\n",
        "  model.v=pyo.Var(model.iset, domain=pyo.Reals,bounds=(-1,1))\n",
        "  model.w=pyo.Var(model.iset, domain=pyo.Reals,bounds=(-1,1))\n",
        "  # random initialize all variables\n",
        "  for i in range(1,5):\n",
        "    for j in range(1,8):\n",
        "      model.u[i,j]=float(random.randint(-1,1))\n",
        "      model.v[i,j]=float(random.randint(-1,1))\n",
        "      model.w[i,j]=float(random.randint(-1,1))\n",
        "  def obj_rule(model):\n",
        "    ans=0\n",
        "    for i in range(1,5):\n",
        "      for j in range(1,5):\n",
        "        for k in range(1,5):\n",
        "          tmp=0\n",
        "          for curr in range(1,8):\n",
        "            tmp+=model.u[i,curr]*model.v[j,curr]*model.w[k,curr]\n",
        "          if (i==1 and j==1 and k==1) or (i==2 and j==3 and k==1) or (i==1 and j==2 and k==2) or (i==2 and j==4 and k==2) or \\\n",
        "                (i==3 and j==1 and k==3) or (i==4 and j==3 and k==3) or (i==3 and j==2 and k==4) or (i==4 and j==4 and k==4) :\n",
        "            ans+=(tmp-1.0)**2\n",
        "          else:\n",
        "            ans+=tmp**2\n",
        "    return ans\n",
        "  model.obj = pyo.Objective(rule=obj_rule, sense=pyo.minimize)\n",
        "  result=pyo.SolverFactory('ipopt', executable='./ipopt').solve(model)\n",
        "  return model"
      ],
      "metadata": {
        "id": "N0tyv6aAaDIE"
      },
      "execution_count": 303,
      "outputs": []
    },
    {
      "cell_type": "code",
      "source": [
        "model=find_solution()"
      ],
      "metadata": {
        "id": "qlOi-Ewnb3Tf"
      },
      "execution_count": 304,
      "outputs": []
    },
    {
      "cell_type": "code",
      "source": [
        "model.display()"
      ],
      "metadata": {
        "colab": {
          "base_uri": "https://localhost:8080/"
        },
        "id": "CLkvtfst6hkw",
        "outputId": "c31a46c5-2bf7-4de5-ed46-b487832aed59"
      },
      "execution_count": 305,
      "outputs": [
        {
          "output_type": "stream",
          "name": "stdout",
          "text": [
            "Model unknown\n",
            "\n",
            "  Variables:\n",
            "    u : Size=28, Index=iset\n",
            "        Key    : Lower : Value                : Upper : Fixed : Stale : Domain\n",
            "        (1, 1) :    -1 :  0.14686171509312065 :     1 : False : False :  Reals\n",
            "        (1, 2) :    -1 :    0.765878807230924 :     1 : False : False :  Reals\n",
            "        (1, 3) :    -1 : -0.03942847082381045 :     1 : False : False :  Reals\n",
            "        (1, 4) :    -1 :  -0.8952783851020599 :     1 : False : False :  Reals\n",
            "        (1, 5) :    -1 : -0.25244510059128755 :     1 : False : False :  Reals\n",
            "        (1, 6) :    -1 :   0.8021587938221949 :     1 : False : False :  Reals\n",
            "        (1, 7) :    -1 :   0.9469405530999322 :     1 : False : False :  Reals\n",
            "        (2, 1) :    -1 : -0.10757646497355672 :     1 : False : False :  Reals\n",
            "        (2, 2) :    -1 :  -0.5610076410491427 :     1 : False : False :  Reals\n",
            "        (2, 3) :    -1 : -0.14793637904514428 :     1 : False : False :  Reals\n",
            "        (2, 4) :    -1 :  -0.5114445341450519 :     1 : False : False :  Reals\n",
            "        (2, 5) :    -1 :  -0.9471787467103898 :     1 : False : False :  Reals\n",
            "        (2, 6) :    -1 :   0.3009666189179336 :     1 : False : False :  Reals\n",
            "        (2, 7) :    -1 :  0.35528812678778765 :     1 : False : False :  Reals\n",
            "        (3, 1) :    -1 :  -0.9332363378623981 :     1 : False : False :  Reals\n",
            "        (3, 2) :    -1 :    0.736382758096461 :     1 : False : False :  Reals\n",
            "        (3, 3) :    -1 :   0.2505492444092434 :     1 : False : False :  Reals\n",
            "        (3, 4) :    -1 : -0.48048523090061296 :     1 : False : False :  Reals\n",
            "        (3, 5) :    -1 :  0.12614061044468905 :     1 : False : False :  Reals\n",
            "        (3, 6) :    -1 :   0.7712655067000154 :     1 : False : False :  Reals\n",
            "        (3, 7) :    -1 :  -0.4731628872950724 :     1 : False : False :  Reals\n",
            "        (4, 1) :    -1 :   0.6835973245194774 :     1 : False : False :  Reals\n",
            "        (4, 2) :    -1 :  -0.5394017166356408 :     1 : False : False :  Reals\n",
            "        (4, 3) :    -1 :   0.9400654020585085 :     1 : False : False :  Reals\n",
            "        (4, 4) :    -1 :   0.9351961912983889 :     1 : False : False :  Reals\n",
            "        (4, 5) :    -1 :   0.4732818888708201 :     1 : False : False :  Reals\n",
            "        (4, 6) :    -1 :   0.2893755940696072 :     1 : False : False :  Reals\n",
            "        (4, 7) :    -1 :  -0.1775287208938526 :     1 : False : False :  Reals\n",
            "    v : Size=28, Index=iset\n",
            "        Key    : Lower : Value                 : Upper : Fixed : Stale : Domain\n",
            "        (1, 1) :    -1 :    0.9397235229817003 :     1 : False : False :  Reals\n",
            "        (1, 2) :    -1 :  -0.28895902989597244 :     1 : False : False :  Reals\n",
            "        (1, 3) :    -1 :    0.6837178360744227 :     1 : False : False :  Reals\n",
            "        (1, 4) :    -1 :    0.9356063101930174 :     1 : False : False :  Reals\n",
            "        (1, 5) :    -1 :  -0.17818773799094886 :     1 : False : False :  Reals\n",
            "        (1, 6) :    -1 :   -0.5389744113991017 :     1 : False : False :  Reals\n",
            "        (1, 7) :    -1 :   0.47524821326638306 :     1 : False : False :  Reals\n",
            "        (2, 1) :    -1 :     0.146762617771962 :     1 : False : False :  Reals\n",
            "        (2, 2) :    -1 :    0.3011349159252667 :     1 : False : False :  Reals\n",
            "        (2, 3) :    -1 :   0.10678057627921159 :     1 : False : False :  Reals\n",
            "        (2, 4) :    -1 :    0.5099870137528927 :     1 : False : False :  Reals\n",
            "        (2, 5) :    -1 :  -0.35519460733250857 :     1 : False : False :  Reals\n",
            "        (2, 6) :    -1 :    0.5616852418132399 :     1 : False : False :  Reals\n",
            "        (2, 7) :    -1 :     0.947346882707561 :     1 : False : False :  Reals\n",
            "        (3, 1) :    -1 :  -0.25045812568469344 :     1 : False : False :  Reals\n",
            "        (3, 2) :    -1 :    0.7701552486792038 :     1 : False : False :  Reals\n",
            "        (3, 3) :    -1 :    0.9334008583572891 :     1 : False : False :  Reals\n",
            "        (3, 4) :    -1 :   0.47901922254660134 :     1 : False : False :  Reals\n",
            "        (3, 5) :    -1 :    0.4749193490448804 :     1 : False : False :  Reals\n",
            "        (3, 6) :    -1 :   -0.7357994077688328 :     1 : False : False :  Reals\n",
            "        (3, 7) :    -1 :  -0.12666468151483717 :     1 : False : False :  Reals\n",
            "        (4, 1) :    -1 : -0.039115636241363626 :     1 : False : False :  Reals\n",
            "        (4, 2) :    -1 :   -0.8026073515926292 :     1 : False : False :  Reals\n",
            "        (4, 3) :    -1 :   0.14577518031952072 :     1 : False : False :  Reals\n",
            "        (4, 4) :    -1 :   -0.8949951978616733 :     1 : False : False :  Reals\n",
            "        (4, 5) :    -1 :    0.9466912980523042 :     1 : False : False :  Reals\n",
            "        (4, 6) :    -1 :     0.766803857096542 :     1 : False : False :  Reals\n",
            "        (4, 7) :    -1 :   -0.2524899127379874 :     1 : False : False :  Reals\n",
            "    w : Size=28, Index=iset\n",
            "        Key    : Lower : Value                 : Upper : Fixed : Stale : Domain\n",
            "        (1, 1) :    -1 :    0.8644549862294305 :     1 : False : False :  Reals\n",
            "        (1, 2) :    -1 :   -0.8729833623701072 :     1 : False : False :  Reals\n",
            "        (1, 3) :    -1 :   0.44970985048839746 :     1 : False : False :  Reals\n",
            "        (1, 4) :    -1 :    -0.923683771862627 :     1 : False : False :  Reals\n",
            "        (1, 5) :    -1 :   -0.9203763553832264 :     1 : False : False :  Reals\n",
            "        (1, 6) :    -1 :  -0.06817000229576489 :     1 : False : False :  Reals\n",
            "        (1, 7) :    -1 :  -0.13810779972779946 :     1 : False : False :  Reals\n",
            "        (2, 1) :    -1 :   -0.4336644892626834 :     1 : False : False :  Reals\n",
            "        (2, 2) :    -1 :    0.4379428502155564 :     1 : False : False :  Reals\n",
            "        (2, 3) :    -1 :    0.4315265877910448 :     1 : False : False :  Reals\n",
            "        (2, 4) :    -1 : 0.0013385795027171647 :     1 : False : False :  Reals\n",
            "        (2, 5) :    -1 :   -0.8831624656568877 :     1 : False : False :  Reals\n",
            "        (2, 6) :    -1 :   0.43649362989936674 :     1 : False : False :  Reals\n",
            "        (2, 7) :    -1 :    0.8843066362224011 :     1 : False : False :  Reals\n",
            "        (3, 1) :    -1 :   -0.8990810283147257 :     1 : False : False :  Reals\n",
            "        (3, 2) :    -1 :   -0.1373798063122314 :     1 : False : False :  Reals\n",
            "        (3, 3) :    -1 :    0.9000040559585447 :     1 : False : False :  Reals\n",
            "        (3, 4) :    -1 : -0.000990281096278974 :     1 : False : False :  Reals\n",
            "        (3, 5) :    -1 :  -0.14483795422791396 :     1 : False : False :  Reals\n",
            "        (3, 6) :    -1 :  -0.13642856997761096 :     1 : False : False :  Reals\n",
            "        (3, 7) :    -1 :   0.14363976483665442 :     1 : False : False :  Reals\n",
            "        (4, 1) :    -1 :    0.4510350464064856 :     1 : False : False :  Reals\n",
            "        (4, 2) :    -1 :   0.06891827557485387 :     1 : False : False :  Reals\n",
            "        (4, 3) :    -1 :    0.8636138585306894 :     1 : False : False :  Reals\n",
            "        (4, 4) :    -1 :   -0.9241810596458486 :     1 : False : False :  Reals\n",
            "        (4, 5) :    -1 :  -0.13898165834925702 :     1 : False : False :  Reals\n",
            "        (4, 6) :    -1 :    0.8735544043314343 :     1 : False : False :  Reals\n",
            "        (4, 7) :    -1 :   -0.9197278133388777 :     1 : False : False :  Reals\n",
            "\n",
            "  Objectives:\n",
            "    obj : Size=1, Index=None, Active=True\n",
            "        Key  : Active : Value\n",
            "        None :   True : 1.1116038993612193e-15\n",
            "\n",
            "  Constraints:\n",
            "    None\n"
          ]
        }
      ]
    },
    {
      "cell_type": "markdown",
      "source": [
        "# Using our discovered Algorithm:\n",
        "\n",
        "suppose we have two matrix 2x2 such as A and B"
      ],
      "metadata": {
        "id": "3qjrpQPwb9AI"
      }
    },
    {
      "cell_type": "code",
      "source": [
        "import numpy as np"
      ],
      "metadata": {
        "id": "wk2yfdHlcQ-d"
      },
      "execution_count": 306,
      "outputs": []
    },
    {
      "cell_type": "code",
      "source": [
        "A=np.array([[1,2],\n",
        "            [3,4]],dtype=np.float32)\n",
        "B=np.array([[5,6],\n",
        "            [7,8]],dtype=np.float32)"
      ],
      "metadata": {
        "id": "LuTLfbnwb3Qv"
      },
      "execution_count": 307,
      "outputs": []
    },
    {
      "cell_type": "code",
      "source": [
        "c1=0\n",
        "c2=0\n",
        "c3=0\n",
        "c4=0\n",
        "m_array=[]\n",
        "for i in range(1,8):\n",
        "  first_paranthese=0\n",
        "  second_paranthese=0\n",
        "  for j in range(1,5):\n",
        "    first_paranthese+=pyo.value(model.u[j,i])*A[(j-1)//2][(j-1)%2]\n",
        "    second_paranthese+=pyo.value(model.v[j,i])*B[(j-1)//2][(j-1)%2]\n",
        "  m_array.append(first_paranthese*second_paranthese)\n",
        "for i in range(1,8):\n",
        "  c1+=m_array[i-1]*pyo.value(model.w[1,i])\n",
        "  c2+=m_array[i-1]*pyo.value(model.w[2,i])\n",
        "  c3+=m_array[i-1]*pyo.value(model.w[3,i])\n",
        "  c4+=m_array[i-1]*pyo.value(model.w[4,i])"
      ],
      "metadata": {
        "id": "mTmAmxApcsOT"
      },
      "execution_count": 309,
      "outputs": []
    },
    {
      "cell_type": "markdown",
      "source": [
        "## Ground truth answer:"
      ],
      "metadata": {
        "id": "-RclqWLR7fGG"
      }
    },
    {
      "cell_type": "code",
      "source": [
        "A @ B"
      ],
      "metadata": {
        "colab": {
          "base_uri": "https://localhost:8080/"
        },
        "id": "Hcuo8mNG7l1z",
        "outputId": "b15e5947-9fb4-4170-cd8f-bdcfec41d632"
      },
      "execution_count": 313,
      "outputs": [
        {
          "output_type": "execute_result",
          "data": {
            "text/plain": [
              "array([[19., 22.],\n",
              "       [43., 50.]], dtype=float32)"
            ]
          },
          "metadata": {},
          "execution_count": 313
        }
      ]
    },
    {
      "cell_type": "markdown",
      "source": [
        "## Answer using our discovered algorithm:"
      ],
      "metadata": {
        "id": "9ZmmSYwK7nsT"
      }
    },
    {
      "cell_type": "code",
      "source": [
        "c1,c2,c3,c4"
      ],
      "metadata": {
        "colab": {
          "base_uri": "https://localhost:8080/"
        },
        "id": "1AzvSQzBc81d",
        "outputId": "0e5e0556-9476-423f-b1bc-fe9592780006"
      },
      "execution_count": 315,
      "outputs": [
        {
          "output_type": "execute_result",
          "data": {
            "text/plain": [
              "(18.99999943044926, 22.00000026367782, 43.00000009654833, 49.99999964915442)"
            ]
          },
          "metadata": {},
          "execution_count": 315
        }
      ]
    },
    {
      "cell_type": "code",
      "source": [
        "round(c1),round(c2),round(c3),round(c4)"
      ],
      "metadata": {
        "colab": {
          "base_uri": "https://localhost:8080/"
        },
        "id": "IKMAVFeje8Eu",
        "outputId": "f7d0b9e1-3a30-4356-ad7a-457b666fd2f9"
      },
      "execution_count": 316,
      "outputs": [
        {
          "output_type": "execute_result",
          "data": {
            "text/plain": [
              "(19, 22, 43, 50)"
            ]
          },
          "metadata": {},
          "execution_count": 316
        }
      ]
    },
    {
      "cell_type": "code",
      "source": [],
      "metadata": {
        "id": "-g8Wayo12LjY"
      },
      "execution_count": null,
      "outputs": []
    }
  ]
}